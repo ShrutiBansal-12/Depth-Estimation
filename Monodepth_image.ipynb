{
  "nbformat": 4,
  "nbformat_minor": 0,
  "metadata": {
    "colab": {
      "provenance": []
    },
    "kernelspec": {
      "name": "python3",
      "display_name": "Python 3"
    },
    "language_info": {
      "name": "python"
    }
  },
  "cells": [
    {
      "cell_type": "code",
      "execution_count": null,
      "metadata": {
        "id": "DlVYEMDD8pBE"
      },
      "outputs": [],
      "source": [
        "import os\n",
        "import argparse\n",
        "import time\n",
        "!pip install mxnet\n",
        "!pip install gluoncv"
      ]
    },
    {
      "cell_type": "code",
      "source": [
        "import numpy as np\n",
        "import mxnet as mx\n",
        "from mxnet.gluon.data.vision import transforms\n",
        "import gluoncv\n",
        "# using cpu\n",
        "ctx = mx.cpu(0)"
      ],
      "metadata": {
        "id": "swwYe-Qv-afX"
      },
      "execution_count": null,
      "outputs": []
    },
    {
      "cell_type": "code",
      "source": [
        "url='https://encrypted-tbn0.gstatic.com/images?q=tbn:ANd9GcTqnj9rI5cYgXD9tg8s3SOlet16xMeFdz59AA&usqp=CAU'\n",
        "filename = 'test_img.png'\n",
        "gluoncv.utils.download(url, filename, True)\n",
        "import PIL.Image as pil\n",
        "img = pil.open(filename).convert('RGB')\n",
        "from matplotlib import pyplot as plt\n",
        "plt.imshow(img)\n",
        "plt.show()"
      ],
      "metadata": {
        "id": "iKJdZ-8Y-dF0"
      },
      "execution_count": null,
      "outputs": []
    },
    {
      "cell_type": "code",
      "source": [
        "original_width, original_height = img.size\n",
        "feed_height = 192\n",
        "feed_width = 640\n",
        "img = img.resize((feed_width, feed_height), pil.LANCZOS)\n",
        "img = transforms.ToTensor()(mx.nd.array(img)).expand_dims(0).as_in_context(context=ctx)\n",
        "model = gluoncv.model_zoo.get_model('monodepth2_resnet18_kitti_stereo_640x192',pretrained_base=False, ctx=ctx, pretrained=True)\n",
        "outputs = model.predict(img)\n",
        "disp = outputs[(\"disp\", 0)]\n",
        "disp_resized = mx.nd.contrib.BilinearResize2D(disp, height=original_height, width=original_width)\n"
      ],
      "metadata": {
        "id": "NEtdR4h7-jQw"
      },
      "execution_count": null,
      "outputs": []
    },
    {
      "cell_type": "code",
      "source": [
        "import matplotlib as mpl\n",
        "import matplotlib.cm as cm\n",
        "disp_resized_np = disp_resized.squeeze().as_in_context(mx.cpu()).asnumpy()\n",
        "vmax = np.percentile(disp_resized_np, 95)\n",
        "normalizer = mpl.colors.Normalize(vmin=disp_resized_np.min(), vmax=vmax)\n",
        "mapper = cm.ScalarMappable(norm=normalizer, cmap='magma')\n",
        "colormapped_im = (mapper.to_rgba(disp_resized_np)[:, :, :3] * 255).astype(np.uint8)\n",
        "im = pil.fromarray(colormapped_im)\n",
        "im.save('test_output.png')\n",
        "\n",
        "import matplotlib.image as mpimg\n",
        "disp_map = mpimg.imread('test_output.png')\n",
        "plt.imshow(disp_map)\n",
        "plt.show()"
      ],
      "metadata": {
        "id": "xGO7Z9vY-tG1"
      },
      "execution_count": null,
      "outputs": []
    }
  ]
}