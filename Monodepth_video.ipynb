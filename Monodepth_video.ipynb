{
  "nbformat": 4,
  "nbformat_minor": 0,
  "metadata": {
    "colab": {
      "provenance": []
    },
    "kernelspec": {
      "name": "python3",
      "display_name": "Python 3"
    },
    "language_info": {
      "name": "python"
    }
  },
  "cells": [
    {
      "cell_type": "code",
      "execution_count": null,
      "metadata": {
        "id": "ntZ2hg0K-4L4"
      },
      "outputs": [],
      "source": [
        "import cv2\n",
        "vidcap = cv2.VideoCapture('/content/S22_3.mp4')\n",
        "success,image = vidcap.read()\n",
        "count = 0\n",
        "while success:\n",
        "  cv2.imwrite(\"frame%d.jpg\" % count, image)     # save frame as JPEG file      \n",
        "  success,image = vidcap.read()\n",
        "  #print('Read a new frame: ', success)\n",
        "  count += 1 \n",
        "totalframecount= int(vidcap.get(cv2.CAP_PROP_FRAME_COUNT))\n",
        "print(\"The total number of frames in this video is \", totalframecount)\n"
      ]
    },
    {
      "cell_type": "code",
      "source": [
        "import os\n",
        "import argparse\n",
        "import time\n",
        "!pip install mxnet\n",
        "!pip install gluoncv"
      ],
      "metadata": {
        "id": "gh6lbrGZ--0e"
      },
      "execution_count": null,
      "outputs": []
    },
    {
      "cell_type": "code",
      "source": [
        "import numpy as np\n",
        "import mxnet as mx\n",
        "from mxnet.gluon.data.vision import transforms\n",
        "import gluoncv\n",
        "# using cpu\n",
        "ctx = mx.cpu(0)\n",
        "model = gluoncv.model_zoo.get_model('monodepth2_resnet18_kitti_stereo_640x192',pretrained_base=False, ctx=ctx, pretrained=True)\n"
      ],
      "metadata": {
        "id": "IblUm_Ff_LXT"
      },
      "execution_count": null,
      "outputs": []
    },
    {
      "cell_type": "code",
      "source": [
        "import PIL.Image as pil\n",
        "from matplotlib import pyplot as plt\n",
        "import matplotlib as mpl\n",
        "import matplotlib.cm as cm\n",
        "count = 0\n",
        "while count<totalframecount:\n",
        "  filename=\"frame\"+str(count)+\".jpg\"  \n",
        "  img = pil.open(filename).convert('RGB')\n",
        "  #plt.imshow(img)\n",
        "  #plt.show()\n",
        "  original_width, original_height = img.size\n",
        "  feed_height = 192\n",
        "  feed_width = 640\n",
        "\n",
        "  img = img.resize((feed_width, feed_height), pil.LANCZOS)\n",
        "  img = transforms.ToTensor()(mx.nd.array(img)).expand_dims(0).as_in_context(context=ctx)\n",
        "  outputs = model.predict(img)\n",
        "  disp = outputs[(\"disp\", 0)]\n",
        "  disp_resized = mx.nd.contrib.BilinearResize2D(disp, height=original_height, width=original_width)\n",
        "\n",
        "  disp_resized_np = disp_resized.squeeze().as_in_context(mx.cpu()).asnumpy()\n",
        "  vmax = np.percentile(disp_resized_np, 95)\n",
        "  normalizer = mpl.colors.Normalize(vmin=disp_resized_np.min(), vmax=vmax)\n",
        "  mapper = cm.ScalarMappable(norm=normalizer, cmap='magma')\n",
        "  colormapped_im = (mapper.to_rgba(disp_resized_np)[:, :, :3] * 255).astype(np.uint8)\n",
        "  im = pil.fromarray(colormapped_im)\n",
        "  im.save('test_output'+str(count)+'.png')\n",
        "\n",
        "  import matplotlib.image as mpimg\n",
        "  disp_map = mpimg.imread('test_output'+str(count)+'.png')\n",
        "  #plt.imshow(disp_map)\n",
        "  #plt.show()\n",
        "  count += 1"
      ],
      "metadata": {
        "id": "Iu_1fgoN_SDI"
      },
      "execution_count": null,
      "outputs": []
    },
    {
      "cell_type": "code",
      "source": [
        "import cv2\n",
        "import numpy as np\n",
        "\n",
        "img=[]\n",
        "for i in range(0,totalframecount):\n",
        "    img.append(cv2.imread(\"test_output\"+str(i)+'.png'))\n",
        "fourcc = cv2.VideoWriter_fourcc(*'mp4v')\n",
        "height,width,layers=img[1].shape \n",
        "#video=cv2.VideoWriter(\"video3.avi\",fourcc,55,(width,height))\n",
        "video=cv2.VideoWriter(\"video3.mp4\",fourcc,55,(width,height))\n",
        "\n",
        "for j in range(0,totalframecount):\n",
        "    video.write(img[j])\n",
        "\n",
        "cv2.destroyAllWindows()\n",
        "video.release()"
      ],
      "metadata": {
        "id": "Qo-XImrq_Swv"
      },
      "execution_count": null,
      "outputs": []
    }
  ]
}